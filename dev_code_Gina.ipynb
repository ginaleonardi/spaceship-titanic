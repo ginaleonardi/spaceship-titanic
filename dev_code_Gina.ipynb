{
 "cells": [
  {
   "cell_type": "code",
   "execution_count": 1,
   "id": "8caf5d52",
   "metadata": {},
   "outputs": [],
   "source": [
    "import os\n",
    "import pandas as pd\n",
    "import matplotlib.pyplot as plt\n",
    "import seaborn as sns\n",
    "from scipy import stats"
   ]
  },
  {
   "cell_type": "code",
   "execution_count": 2,
   "id": "6ccfc886",
   "metadata": {},
   "outputs": [
    {
     "data": {
      "text/plain": [
       "'/Users/ginaleonardi/Documents/spaceship-titanic'"
      ]
     },
     "execution_count": 2,
     "metadata": {},
     "output_type": "execute_result"
    }
   ],
   "source": [
    "pwd"
   ]
  },
  {
   "cell_type": "code",
   "execution_count": 3,
   "id": "65b7bfc9",
   "metadata": {},
   "outputs": [],
   "source": [
    "titanic_df = pd.read_csv('spaceship-titanic_nonans.csv')"
   ]
  },
  {
   "cell_type": "code",
   "execution_count": 4,
   "id": "8fc6f891",
   "metadata": {},
   "outputs": [],
   "source": [
    "titanic_df = titanic_df.drop('Unnamed: 0', axis=1)"
   ]
  },
  {
   "cell_type": "code",
   "execution_count": 5,
   "id": "9e6e882a",
   "metadata": {},
   "outputs": [
    {
     "data": {
      "text/html": [
       "<div>\n",
       "<style scoped>\n",
       "    .dataframe tbody tr th:only-of-type {\n",
       "        vertical-align: middle;\n",
       "    }\n",
       "\n",
       "    .dataframe tbody tr th {\n",
       "        vertical-align: top;\n",
       "    }\n",
       "\n",
       "    .dataframe thead th {\n",
       "        text-align: right;\n",
       "    }\n",
       "</style>\n",
       "<table border=\"1\" class=\"dataframe\">\n",
       "  <thead>\n",
       "    <tr style=\"text-align: right;\">\n",
       "      <th></th>\n",
       "      <th>HomePlanet</th>\n",
       "      <th>CryoSleep</th>\n",
       "      <th>Deck</th>\n",
       "      <th>RoomNum</th>\n",
       "      <th>Side</th>\n",
       "      <th>Destination</th>\n",
       "      <th>Age</th>\n",
       "      <th>VIP</th>\n",
       "      <th>RoomService</th>\n",
       "      <th>FoodCourt</th>\n",
       "      <th>ShoppingMall</th>\n",
       "      <th>Spa</th>\n",
       "      <th>VRDeck</th>\n",
       "      <th>Transported</th>\n",
       "    </tr>\n",
       "  </thead>\n",
       "  <tbody>\n",
       "    <tr>\n",
       "      <th>0</th>\n",
       "      <td>Europa</td>\n",
       "      <td>False</td>\n",
       "      <td>B</td>\n",
       "      <td>0.0</td>\n",
       "      <td>P</td>\n",
       "      <td>TRAPPIST-1e</td>\n",
       "      <td>39.0</td>\n",
       "      <td>False</td>\n",
       "      <td>0.0</td>\n",
       "      <td>0.0</td>\n",
       "      <td>0.0</td>\n",
       "      <td>0.0</td>\n",
       "      <td>0.0</td>\n",
       "      <td>False</td>\n",
       "    </tr>\n",
       "    <tr>\n",
       "      <th>1</th>\n",
       "      <td>Earth</td>\n",
       "      <td>False</td>\n",
       "      <td>F</td>\n",
       "      <td>0.0</td>\n",
       "      <td>S</td>\n",
       "      <td>TRAPPIST-1e</td>\n",
       "      <td>24.0</td>\n",
       "      <td>False</td>\n",
       "      <td>109.0</td>\n",
       "      <td>9.0</td>\n",
       "      <td>25.0</td>\n",
       "      <td>549.0</td>\n",
       "      <td>44.0</td>\n",
       "      <td>True</td>\n",
       "    </tr>\n",
       "    <tr>\n",
       "      <th>2</th>\n",
       "      <td>Europa</td>\n",
       "      <td>False</td>\n",
       "      <td>A</td>\n",
       "      <td>0.0</td>\n",
       "      <td>S</td>\n",
       "      <td>TRAPPIST-1e</td>\n",
       "      <td>58.0</td>\n",
       "      <td>True</td>\n",
       "      <td>43.0</td>\n",
       "      <td>3576.0</td>\n",
       "      <td>0.0</td>\n",
       "      <td>6715.0</td>\n",
       "      <td>49.0</td>\n",
       "      <td>False</td>\n",
       "    </tr>\n",
       "    <tr>\n",
       "      <th>3</th>\n",
       "      <td>Europa</td>\n",
       "      <td>False</td>\n",
       "      <td>A</td>\n",
       "      <td>0.0</td>\n",
       "      <td>S</td>\n",
       "      <td>TRAPPIST-1e</td>\n",
       "      <td>33.0</td>\n",
       "      <td>False</td>\n",
       "      <td>0.0</td>\n",
       "      <td>1283.0</td>\n",
       "      <td>371.0</td>\n",
       "      <td>3329.0</td>\n",
       "      <td>193.0</td>\n",
       "      <td>False</td>\n",
       "    </tr>\n",
       "    <tr>\n",
       "      <th>4</th>\n",
       "      <td>Earth</td>\n",
       "      <td>False</td>\n",
       "      <td>F</td>\n",
       "      <td>1.0</td>\n",
       "      <td>S</td>\n",
       "      <td>TRAPPIST-1e</td>\n",
       "      <td>16.0</td>\n",
       "      <td>False</td>\n",
       "      <td>303.0</td>\n",
       "      <td>70.0</td>\n",
       "      <td>151.0</td>\n",
       "      <td>565.0</td>\n",
       "      <td>2.0</td>\n",
       "      <td>True</td>\n",
       "    </tr>\n",
       "  </tbody>\n",
       "</table>\n",
       "</div>"
      ],
      "text/plain": [
       "  HomePlanet  CryoSleep Deck  RoomNum Side  Destination   Age    VIP  \\\n",
       "0     Europa      False    B      0.0    P  TRAPPIST-1e  39.0  False   \n",
       "1      Earth      False    F      0.0    S  TRAPPIST-1e  24.0  False   \n",
       "2     Europa      False    A      0.0    S  TRAPPIST-1e  58.0   True   \n",
       "3     Europa      False    A      0.0    S  TRAPPIST-1e  33.0  False   \n",
       "4      Earth      False    F      1.0    S  TRAPPIST-1e  16.0  False   \n",
       "\n",
       "   RoomService  FoodCourt  ShoppingMall     Spa  VRDeck  Transported  \n",
       "0          0.0        0.0           0.0     0.0     0.0        False  \n",
       "1        109.0        9.0          25.0   549.0    44.0         True  \n",
       "2         43.0     3576.0           0.0  6715.0    49.0        False  \n",
       "3          0.0     1283.0         371.0  3329.0   193.0        False  \n",
       "4        303.0       70.0         151.0   565.0     2.0         True  "
      ]
     },
     "execution_count": 5,
     "metadata": {},
     "output_type": "execute_result"
    }
   ],
   "source": [
    "titanic_df.head()"
   ]
  },
  {
   "cell_type": "code",
   "execution_count": 6,
   "id": "17d20d46",
   "metadata": {},
   "outputs": [
    {
     "data": {
      "text/plain": [
       "HomePlanet      0\n",
       "CryoSleep       0\n",
       "Deck            0\n",
       "RoomNum         0\n",
       "Side            0\n",
       "Destination     0\n",
       "Age             0\n",
       "VIP             0\n",
       "RoomService     0\n",
       "FoodCourt       0\n",
       "ShoppingMall    0\n",
       "Spa             0\n",
       "VRDeck          0\n",
       "Transported     0\n",
       "dtype: int64"
      ]
     },
     "execution_count": 6,
     "metadata": {},
     "output_type": "execute_result"
    }
   ],
   "source": [
    "titanic_df.isnull().sum()"
   ]
  },
  {
   "cell_type": "code",
   "execution_count": 7,
   "id": "912de2cd",
   "metadata": {},
   "outputs": [
    {
     "data": {
      "text/plain": [
       "HomePlanet         3\n",
       "CryoSleep          2\n",
       "Deck               8\n",
       "RoomNum         1818\n",
       "Side               2\n",
       "Destination        3\n",
       "Age               81\n",
       "VIP                2\n",
       "RoomService     1274\n",
       "FoodCourt       1508\n",
       "ShoppingMall    1116\n",
       "Spa             1328\n",
       "VRDeck          1307\n",
       "Transported        2\n",
       "dtype: int64"
      ]
     },
     "execution_count": 7,
     "metadata": {},
     "output_type": "execute_result"
    }
   ],
   "source": [
    "titanic_df.nunique()"
   ]
  },
  {
   "cell_type": "code",
   "execution_count": 8,
   "id": "730bf2ba",
   "metadata": {},
   "outputs": [
    {
     "data": {
      "text/plain": [
       "Earth     4720\n",
       "Europa    2177\n",
       "Mars      1796\n",
       "Name: HomePlanet, dtype: int64"
      ]
     },
     "execution_count": 8,
     "metadata": {},
     "output_type": "execute_result"
    }
   ],
   "source": [
    "titanic_df['HomePlanet'].value_counts()"
   ]
  },
  {
   "cell_type": "code",
   "execution_count": 9,
   "id": "0de10fe8",
   "metadata": {},
   "outputs": [
    {
     "data": {
      "image/png": "[encoded data removed]",
      "text/plain": [
       "<Figure size 432x288 with 1 Axes>"
      ]
     },
     "metadata": {
      "needs_background": "light"
     },
     "output_type": "display_data"
    }
   ],
   "source": [
    "# Plot home planet\n",
    "\n",
    "titanic_df.groupby(['HomePlanet', 'Transported']).size().unstack().plot(kind='bar', stacked=False, color=[\"purple\", \"green\"])\n",
    "plt.title(\"Transported by Home Planet\")\n",
    "plt.xlabel(\"Home Planet\")\n",
    "plt.ylabel(\"Count\")\n",
    "\n",
    "plt.savefig('byHomePlanet.jpg')\n",
    "\n",
    "plt.show()\n"
   ]
  },
  {
   "cell_type": "code",
   "execution_count": 10,
   "id": "ddf10d53",
   "metadata": {},
   "outputs": [
    {
     "data": {
      "text/plain": [
       "F    2847\n",
       "G    2626\n",
       "E     897\n",
       "B     803\n",
       "C     764\n",
       "D     485\n",
       "A     266\n",
       "T       5\n",
       "Name: Deck, dtype: int64"
      ]
     },
     "execution_count": 10,
     "metadata": {},
     "output_type": "execute_result"
    }
   ],
   "source": [
    "titanic_df['Deck'].value_counts()"
   ]
  },
  {
   "cell_type": "code",
   "execution_count": 11,
   "id": "601d484a",
   "metadata": {},
   "outputs": [
    {
     "data": {
      "image/png": "[encoded data removed]",
      "text/plain": [
       "<Figure size 432x288 with 1 Axes>"
      ]
     },
     "metadata": {
      "needs_background": "light"
     },
     "output_type": "display_data"
    }
   ],
   "source": [
    "# Plot deck\n",
    "\n",
    "titanic_df.groupby(['Deck', 'Transported']).size().unstack().plot(kind='bar', stacked=False, color=[\"purple\", \"green\"])\n",
    "plt.title(\"Transported by Deck\")\n",
    "plt.xlabel(\"Deck\")\n",
    "plt.ylabel(\"Count\")\n",
    "\n",
    "plt.savefig('byDeck.jpg')\n",
    "\n",
    "plt.show()\n"
   ]
  },
  {
   "cell_type": "code",
   "execution_count": 12,
   "id": "b9857250",
   "metadata": {},
   "outputs": [
    {
     "data": {
      "text/plain": [
       "False    5582\n",
       "True     3111\n",
       "Name: CryoSleep, dtype: int64"
      ]
     },
     "execution_count": 12,
     "metadata": {},
     "output_type": "execute_result"
    }
   ],
   "source": [
    "titanic_df['CryoSleep'].value_counts()"
   ]
  },
  {
   "cell_type": "code",
   "execution_count": 13,
   "id": "28855f62",
   "metadata": {},
   "outputs": [
    {
     "data": {
      "image/png": "[encoded data removed]",
      "text/plain": [
       "<Figure size 432x288 with 1 Axes>"
      ]
     },
     "metadata": {
      "needs_background": "light"
     },
     "output_type": "display_data"
    }
   ],
   "source": [
    "# Plot CryoSleep\n",
    "titanic_df.groupby(['CryoSleep', 'Transported']).size().unstack().plot(kind='bar', stacked=False, color=[\"purple\", \"green\"])\n",
    "plt.title(\"Transported by CryoSleep Status\")\n",
    "plt.xlabel(\"In CryoSleep\")\n",
    "plt.ylabel(\"Count\")\n",
    "\n",
    "plt.savefig('byCryoSleep.jpg')\n",
    "plt.show()\n"
   ]
  },
  {
   "cell_type": "code",
   "execution_count": 14,
   "id": "1e838353",
   "metadata": {},
   "outputs": [
    {
     "data": {
      "text/plain": [
       "S    4376\n",
       "P    4317\n",
       "Name: Side, dtype: int64"
      ]
     },
     "execution_count": 14,
     "metadata": {},
     "output_type": "execute_result"
    }
   ],
   "source": [
    "titanic_df['Side'].value_counts()"
   ]
  },
  {
   "cell_type": "code",
   "execution_count": 15,
   "id": "59444d62",
   "metadata": {},
   "outputs": [
    {
     "data": {
      "image/png": "[encoded data removed]",
      "text/plain": [
       "<Figure size 432x288 with 1 Axes>"
      ]
     },
     "metadata": {
      "needs_background": "light"
     },
     "output_type": "display_data"
    }
   ],
   "source": [
    "# Plot side \n",
    "titanic_df.groupby(['Side', 'Transported']).size().unstack().plot(kind='bar', stacked=False, color=[\"purple\", \"green\"])\n",
    "plt.title(\"Transported by Side\")\n",
    "plt.xlabel(\"Side of Ship\")\n",
    "plt.ylabel(\"Count\")\n",
    "\n",
    "plt.savefig('bySide.jpg')\n",
    "\n",
    "plt.show()"
   ]
  },
  {
   "cell_type": "code",
   "execution_count": 16,
   "id": "6fe35604",
   "metadata": {},
   "outputs": [
    {
     "data": {
      "image/png": "[encoded data removed]",
      "text/plain": [
       "<Figure size 432x288 with 1 Axes>"
      ]
     },
     "metadata": {
      "needs_background": "light"
     },
     "output_type": "display_data"
    }
   ],
   "source": [
    "# Plot Age\n",
    "age_bins = [0, 11, 17, 24, 34, 49, 64, 80]\n",
    "age_labels = ['0-11', '12-17', '18-24', '25-34', '35-49', '50-64', '65-80']\n",
    "titanic_df['AgeGroup'] = pd.cut(titanic_df['Age'], bins=age_bins, labels=age_labels, right=False)\n",
    "\n",
    "titanic_df.groupby(['AgeGroup', 'Transported']).size().unstack().plot(kind='bar', stacked=False, color=[\"purple\", \"green\"])\n",
    "plt.title(\"Transported by Age Group\")\n",
    "plt.xlabel(\"Age Group\")\n",
    "plt.ylabel(\"Count\")\n",
    "\n",
    "plt.savefig('byAgeGroup.jpg')\n",
    "plt.show()"
   ]
  },
  {
   "cell_type": "code",
   "execution_count": 17,
   "id": "755eed93",
   "metadata": {},
   "outputs": [
    {
     "data": {
      "text/plain": [
       "25-34    2532\n",
       "18-24    1942\n",
       "35-49    1938\n",
       "50-64     758\n",
       "0-11      718\n",
       "12-17     669\n",
       "65-80     136\n",
       "Name: AgeGroup, dtype: int64"
      ]
     },
     "execution_count": 17,
     "metadata": {},
     "output_type": "execute_result"
    }
   ],
   "source": [
    "titanic_df['AgeGroup'].value_counts()"
   ]
  },
  {
   "cell_type": "code",
   "execution_count": 18,
   "id": "bc4b53a6",
   "metadata": {},
   "outputs": [
    {
     "data": {
      "image/png": "[encoded data removed]",
      "text/plain": [
       "<Figure size 432x288 with 1 Axes>"
      ]
     },
     "metadata": {},
     "output_type": "display_data"
    }
   ],
   "source": [
    "transport_counts = titanic_df['Transported'].value_counts()\n",
    "\n",
    "colors = ['purple', 'green']\n",
    "plt.pie(transport_counts, labels=transport_counts.index, colors=colors, autopct='%1.1f%%')\n",
    "\n",
    "plt.title(\"Total Passengers Transported\")\n",
    "\n",
    "plt.savefig('totalTransported.jpg')\n",
    "plt.show()"
   ]
  },
  {
   "cell_type": "code",
   "execution_count": 19,
   "id": "de861470",
   "metadata": {},
   "outputs": [
    {
     "data": {
      "text/html": [
       "<div>\n",
       "<style scoped>\n",
       "    .dataframe tbody tr th:only-of-type {\n",
       "        vertical-align: middle;\n",
       "    }\n",
       "\n",
       "    .dataframe tbody tr th {\n",
       "        vertical-align: top;\n",
       "    }\n",
       "\n",
       "    .dataframe thead th {\n",
       "        text-align: right;\n",
       "    }\n",
       "</style>\n",
       "<table border=\"1\" class=\"dataframe\">\n",
       "  <thead>\n",
       "    <tr style=\"text-align: right;\">\n",
       "      <th></th>\n",
       "      <th>CryoSleep</th>\n",
       "      <th>RoomNum</th>\n",
       "      <th>Age</th>\n",
       "      <th>VIP</th>\n",
       "      <th>RoomService</th>\n",
       "      <th>FoodCourt</th>\n",
       "      <th>ShoppingMall</th>\n",
       "      <th>Spa</th>\n",
       "      <th>VRDeck</th>\n",
       "      <th>Transported</th>\n",
       "    </tr>\n",
       "  </thead>\n",
       "  <tbody>\n",
       "    <tr>\n",
       "      <th>CryoSleep</th>\n",
       "      <td>1.000000</td>\n",
       "      <td>-0.037159</td>\n",
       "      <td>-0.069536</td>\n",
       "      <td>-0.074514</td>\n",
       "      <td>-0.241492</td>\n",
       "      <td>-0.204231</td>\n",
       "      <td>-0.207543</td>\n",
       "      <td>-0.196714</td>\n",
       "      <td>-0.190897</td>\n",
       "      <td>0.456062</td>\n",
       "    </tr>\n",
       "    <tr>\n",
       "      <th>RoomNum</th>\n",
       "      <td>-0.037159</td>\n",
       "      <td>1.000000</td>\n",
       "      <td>-0.129538</td>\n",
       "      <td>-0.095226</td>\n",
       "      <td>-0.008454</td>\n",
       "      <td>-0.180021</td>\n",
       "      <td>0.001697</td>\n",
       "      <td>-0.126451</td>\n",
       "      <td>-0.136526</td>\n",
       "      <td>-0.044578</td>\n",
       "    </tr>\n",
       "    <tr>\n",
       "      <th>Age</th>\n",
       "      <td>-0.069536</td>\n",
       "      <td>-0.129538</td>\n",
       "      <td>1.000000</td>\n",
       "      <td>0.089766</td>\n",
       "      <td>0.067612</td>\n",
       "      <td>0.127937</td>\n",
       "      <td>0.032655</td>\n",
       "      <td>0.120992</td>\n",
       "      <td>0.099210</td>\n",
       "      <td>-0.074249</td>\n",
       "    </tr>\n",
       "    <tr>\n",
       "      <th>VIP</th>\n",
       "      <td>-0.074514</td>\n",
       "      <td>-0.095226</td>\n",
       "      <td>0.089766</td>\n",
       "      <td>1.000000</td>\n",
       "      <td>0.054668</td>\n",
       "      <td>0.124234</td>\n",
       "      <td>0.017867</td>\n",
       "      <td>0.058806</td>\n",
       "      <td>0.120842</td>\n",
       "      <td>-0.034560</td>\n",
       "    </tr>\n",
       "    <tr>\n",
       "      <th>RoomService</th>\n",
       "      <td>-0.241492</td>\n",
       "      <td>-0.008454</td>\n",
       "      <td>0.067612</td>\n",
       "      <td>0.054668</td>\n",
       "      <td>1.000000</td>\n",
       "      <td>-0.015521</td>\n",
       "      <td>0.052962</td>\n",
       "      <td>0.009925</td>\n",
       "      <td>-0.019207</td>\n",
       "      <td>-0.242048</td>\n",
       "    </tr>\n",
       "    <tr>\n",
       "      <th>FoodCourt</th>\n",
       "      <td>-0.204231</td>\n",
       "      <td>-0.180021</td>\n",
       "      <td>0.127937</td>\n",
       "      <td>0.124234</td>\n",
       "      <td>-0.015521</td>\n",
       "      <td>1.000000</td>\n",
       "      <td>-0.013934</td>\n",
       "      <td>0.220587</td>\n",
       "      <td>0.224275</td>\n",
       "      <td>0.046074</td>\n",
       "    </tr>\n",
       "    <tr>\n",
       "      <th>ShoppingMall</th>\n",
       "      <td>-0.207543</td>\n",
       "      <td>0.001697</td>\n",
       "      <td>0.032655</td>\n",
       "      <td>0.017867</td>\n",
       "      <td>0.052962</td>\n",
       "      <td>-0.013934</td>\n",
       "      <td>1.000000</td>\n",
       "      <td>0.013678</td>\n",
       "      <td>-0.007189</td>\n",
       "      <td>0.010019</td>\n",
       "    </tr>\n",
       "    <tr>\n",
       "      <th>Spa</th>\n",
       "      <td>-0.196714</td>\n",
       "      <td>-0.126451</td>\n",
       "      <td>0.120992</td>\n",
       "      <td>0.058806</td>\n",
       "      <td>0.009925</td>\n",
       "      <td>0.220587</td>\n",
       "      <td>0.013678</td>\n",
       "      <td>1.000000</td>\n",
       "      <td>0.147957</td>\n",
       "      <td>-0.218791</td>\n",
       "    </tr>\n",
       "    <tr>\n",
       "      <th>VRDeck</th>\n",
       "      <td>-0.190897</td>\n",
       "      <td>-0.136526</td>\n",
       "      <td>0.099210</td>\n",
       "      <td>0.120842</td>\n",
       "      <td>-0.019207</td>\n",
       "      <td>0.224275</td>\n",
       "      <td>-0.007189</td>\n",
       "      <td>0.147957</td>\n",
       "      <td>1.000000</td>\n",
       "      <td>-0.204825</td>\n",
       "    </tr>\n",
       "    <tr>\n",
       "      <th>Transported</th>\n",
       "      <td>0.456062</td>\n",
       "      <td>-0.044578</td>\n",
       "      <td>-0.074249</td>\n",
       "      <td>-0.034560</td>\n",
       "      <td>-0.242048</td>\n",
       "      <td>0.046074</td>\n",
       "      <td>0.010019</td>\n",
       "      <td>-0.218791</td>\n",
       "      <td>-0.204825</td>\n",
       "      <td>1.000000</td>\n",
       "    </tr>\n",
       "  </tbody>\n",
       "</table>\n",
       "</div>"
      ],
      "text/plain": [
       "              CryoSleep   RoomNum       Age       VIP  RoomService  FoodCourt  \\\n",
       "CryoSleep      1.000000 -0.037159 -0.069536 -0.074514    -0.241492  -0.204231   \n",
       "RoomNum       -0.037159  1.000000 -0.129538 -0.095226    -0.008454  -0.180021   \n",
       "Age           -0.069536 -0.129538  1.000000  0.089766     0.067612   0.127937   \n",
       "VIP           -0.074514 -0.095226  0.089766  1.000000     0.054668   0.124234   \n",
       "RoomService   -0.241492 -0.008454  0.067612  0.054668     1.000000  -0.015521   \n",
       "FoodCourt     -0.204231 -0.180021  0.127937  0.124234    -0.015521   1.000000   \n",
       "ShoppingMall  -0.207543  0.001697  0.032655  0.017867     0.052962  -0.013934   \n",
       "Spa           -0.196714 -0.126451  0.120992  0.058806     0.009925   0.220587   \n",
       "VRDeck        -0.190897 -0.136526  0.099210  0.120842    -0.019207   0.224275   \n",
       "Transported    0.456062 -0.044578 -0.074249 -0.034560    -0.242048   0.046074   \n",
       "\n",
       "              ShoppingMall       Spa    VRDeck  Transported  \n",
       "CryoSleep        -0.207543 -0.196714 -0.190897     0.456062  \n",
       "RoomNum           0.001697 -0.126451 -0.136526    -0.044578  \n",
       "Age               0.032655  0.120992  0.099210    -0.074249  \n",
       "VIP               0.017867  0.058806  0.120842    -0.034560  \n",
       "RoomService       0.052962  0.009925 -0.019207    -0.242048  \n",
       "FoodCourt        -0.013934  0.220587  0.224275     0.046074  \n",
       "ShoppingMall      1.000000  0.013678 -0.007189     0.010019  \n",
       "Spa               0.013678  1.000000  0.147957    -0.218791  \n",
       "VRDeck           -0.007189  0.147957  1.000000    -0.204825  \n",
       "Transported       0.010019 -0.218791 -0.204825     1.000000  "
      ]
     },
     "execution_count": 19,
     "metadata": {},
     "output_type": "execute_result"
    }
   ],
   "source": [
    "# Coorelation\n",
    "\n",
    "corr=titanic_df.corr()\n",
    "corr"
   ]
  },
  {
   "cell_type": "code",
   "execution_count": 20,
   "id": "e9616f1c",
   "metadata": {},
   "outputs": [
    {
     "data": {
      "image/png": "[encoded data removed]",
      "text/plain": [
       "<Figure size 432x288 with 2 Axes>"
      ]
     },
     "metadata": {
      "needs_background": "light"
     },
     "output_type": "display_data"
    }
   ],
   "source": [
    "sns.heatmap(corr, cmap='Greens')\n",
    "\n",
    "plt.savefig('heatmap_image.png')\n",
    "\n",
    "plt.show()"
   ]
  },
  {
   "cell_type": "code",
   "execution_count": 21,
   "id": "6963456b",
   "metadata": {},
   "outputs": [
    {
     "data": {
      "text/html": [
       "<div>\n",
       "<style scoped>\n",
       "    .dataframe tbody tr th:only-of-type {\n",
       "        vertical-align: middle;\n",
       "    }\n",
       "\n",
       "    .dataframe tbody tr th {\n",
       "        vertical-align: top;\n",
       "    }\n",
       "\n",
       "    .dataframe thead th {\n",
       "        text-align: right;\n",
       "    }\n",
       "</style>\n",
       "<table border=\"1\" class=\"dataframe\">\n",
       "  <thead>\n",
       "    <tr style=\"text-align: right;\">\n",
       "      <th></th>\n",
       "      <th>Count</th>\n",
       "      <th>Transported_Count</th>\n",
       "    </tr>\n",
       "    <tr>\n",
       "      <th>RoomNum</th>\n",
       "      <th></th>\n",
       "      <th></th>\n",
       "    </tr>\n",
       "  </thead>\n",
       "  <tbody>\n",
       "    <tr>\n",
       "      <th>0.0</th>\n",
       "      <td>18</td>\n",
       "      <td>6.0</td>\n",
       "    </tr>\n",
       "    <tr>\n",
       "      <th>1.0</th>\n",
       "      <td>15</td>\n",
       "      <td>10.0</td>\n",
       "    </tr>\n",
       "    <tr>\n",
       "      <th>2.0</th>\n",
       "      <td>11</td>\n",
       "      <td>5.0</td>\n",
       "    </tr>\n",
       "    <tr>\n",
       "      <th>3.0</th>\n",
       "      <td>16</td>\n",
       "      <td>11.0</td>\n",
       "    </tr>\n",
       "    <tr>\n",
       "      <th>4.0</th>\n",
       "      <td>7</td>\n",
       "      <td>2.0</td>\n",
       "    </tr>\n",
       "  </tbody>\n",
       "</table>\n",
       "</div>"
      ],
      "text/plain": [
       "         Count  Transported_Count\n",
       "RoomNum                          \n",
       "0.0         18                6.0\n",
       "1.0         15               10.0\n",
       "2.0         11                5.0\n",
       "3.0         16               11.0\n",
       "4.0          7                2.0"
      ]
     },
     "execution_count": 21,
     "metadata": {},
     "output_type": "execute_result"
    }
   ],
   "source": [
    "room_counts = titanic_df.groupby('RoomNum').size().rename('Count')\n",
    "transported_counts = titanic_df[titanic_df['Transported'] == True].groupby('RoomNum').size().rename('Transported_Count')\n",
    "transported_by_room_df = pd.concat([room_counts, transported_counts], axis=1).fillna(0)\n",
    "\n",
    "transported_by_room_df.head()"
   ]
  },
  {
   "cell_type": "code",
   "execution_count": null,
   "id": "227fe908",
   "metadata": {},
   "outputs": [],
   "source": []
  }
 ],
 "metadata": {
  "kernelspec": {
   "display_name": "PythonData",
   "language": "python",
   "name": "pythondata"
  },
  "language_info": {
   "codemirror_mode": {
    "name": "ipython",
    "version": 3
   },
   "file_extension": ".py",
   "mimetype": "text/x-python",
   "name": "python",
   "nbconvert_exporter": "python",
   "pygments_lexer": "ipython3",
   "version": "3.7.7"
  }
 },
 "nbformat": 4,
 "nbformat_minor": 5
}
